{
  "cells": [
    {
      "cell_type": "code",
      "execution_count": 3,
      "metadata": {
        "pycharm": {
          "is_executing": false
        }
      },
      "outputs": [],
      "source": [
        "import config\n",
        "import utils\n",
        "\n",
        "coverage_threshold \u003d 0.95"
      ]
    },
    {
      "cell_type": "code",
      "execution_count": 14,
      "metadata": {
        "pycharm": {
          "is_executing": false,
          "metadata": false,
          "name": "#%%\n"
        }
      },
      "outputs": [],
      "source": [
        "data \u003d dict()\n",
        "for root_index in range(config.max_index):\n",
        "    data[root_index] \u003d dict()\n",
        "    msg_id \u003d 0\n",
        "    for neighbor_size in config.neighbor_size_range:\n",
        "        data[root_index][neighbor_size] \u003d dict()\n",
        "        for alpha in config.p_range:\n",
        "            for msg_ttl in range(config.ttl_max):\n",
        "                file_name \u003d str(root_index) + \u0027_\u0027 + str(neighbor_size) + \"_\" + str(alpha) + \"_\" + \\\n",
        "                            str(msg_ttl) + \"_\" + str(msg_id) + \".json\"\n",
        "                result \u003d utils.load_result(config.save_dir + file_name)\n",
        "                msg_id \u003d msg_id + 1\n",
        "                target_index \u003d int(result[\u0027peer_size\u0027] * coverage_threshold)\n",
        "                if result[\u0027coverage\u0027] \u003c target_index:\n",
        "                    continue\n",
        "                if result[\u0027time_array\u0027][target_index] \u003e result[\u0027target_time\u0027]:\n",
        "                    continue\n",
        "                data[root_index][neighbor_size][msg_id] \u003d result\n"
      ]
    },
    {
      "cell_type": "code",
      "execution_count": 15,
      "metadata": {
        "pycharm": {
          "metadata": false,
          "name": "#%%\n",
          "is_executing": false
        }
      },
      "outputs": [
        {
          "traceback": [
            "\u001b[0;31m---------------------------------------------------------------------------\u001b[0m",
            "\u001b[0;31mKeyboardInterrupt\u001b[0m                         Traceback (most recent call last)",
            "\u001b[0;32m\u003cipython-input-15-42ac07792eda\u003e\u001b[0m in \u001b[0;36m\u003cmodule\u003e\u001b[0;34m\u001b[0m\n\u001b[1;32m      5\u001b[0m        \u001b[0mmin_redundant\u001b[0m \u001b[0;34m\u003d\u001b[0m \u001b[0mfloat\u001b[0m\u001b[0;34m(\u001b[0m\u001b[0;34m\u0027inf\u0027\u001b[0m\u001b[0;34m)\u001b[0m\u001b[0;34m\u001b[0m\u001b[0;34m\u001b[0m\u001b[0m\n\u001b[1;32m      6\u001b[0m        \u001b[0mmin_case\u001b[0m \u001b[0;34m\u003d\u001b[0m \u001b[0;32mNone\u001b[0m\u001b[0;34m\u001b[0m\u001b[0;34m\u001b[0m\u001b[0m\n\u001b[0;32m----\u003e 7\u001b[0;31m        \u001b[0;32mfor\u001b[0m \u001b[0mcase\u001b[0m \u001b[0;32min\u001b[0m \u001b[0mdata\u001b[0m\u001b[0;34m[\u001b[0m\u001b[0mroot_index\u001b[0m\u001b[0;34m]\u001b[0m\u001b[0;34m[\u001b[0m\u001b[0mneighbor_size\u001b[0m\u001b[0;34m]\u001b[0m\u001b[0;34m:\u001b[0m\u001b[0;34m\u001b[0m\u001b[0;34m\u001b[0m\u001b[0m\n\u001b[0m\u001b[1;32m      8\u001b[0m            \u001b[0;32mif\u001b[0m \u001b[0mdata\u001b[0m\u001b[0;34m[\u001b[0m\u001b[0mroot_index\u001b[0m\u001b[0;34m]\u001b[0m\u001b[0;34m[\u001b[0m\u001b[0mneighbor_size\u001b[0m\u001b[0;34m]\u001b[0m\u001b[0;34m[\u001b[0m\u001b[0mcase\u001b[0m\u001b[0;34m]\u001b[0m\u001b[0;34m[\u001b[0m\u001b[0;34m\u0027total_redundant\u0027\u001b[0m\u001b[0;34m]\u001b[0m \u001b[0;34m\u003c\u001b[0m \u001b[0mmin_redundant\u001b[0m\u001b[0;34m:\u001b[0m\u001b[0;34m\u001b[0m\u001b[0;34m\u001b[0m\u001b[0m\n\u001b[1;32m      9\u001b[0m                \u001b[0mmin_redundant\u001b[0m \u001b[0;34m\u003d\u001b[0m \u001b[0mdata\u001b[0m\u001b[0;34m[\u001b[0m\u001b[0mroot_index\u001b[0m\u001b[0;34m]\u001b[0m\u001b[0;34m[\u001b[0m\u001b[0mneighbor_size\u001b[0m\u001b[0;34m]\u001b[0m\u001b[0;34m[\u001b[0m\u001b[0mcase\u001b[0m\u001b[0;34m]\u001b[0m\u001b[0;34m[\u001b[0m\u001b[0;34m\u0027total_redundant\u0027\u001b[0m\u001b[0;34m]\u001b[0m\u001b[0;34m\u001b[0m\u001b[0;34m\u001b[0m\u001b[0m\n",
            "\u001b[0;32m\u003cipython-input-15-42ac07792eda\u003e\u001b[0m in \u001b[0;36m\u003cmodule\u003e\u001b[0;34m\u001b[0m\n\u001b[1;32m      5\u001b[0m        \u001b[0mmin_redundant\u001b[0m \u001b[0;34m\u003d\u001b[0m \u001b[0mfloat\u001b[0m\u001b[0;34m(\u001b[0m\u001b[0;34m\u0027inf\u0027\u001b[0m\u001b[0;34m)\u001b[0m\u001b[0;34m\u001b[0m\u001b[0;34m\u001b[0m\u001b[0m\n\u001b[1;32m      6\u001b[0m        \u001b[0mmin_case\u001b[0m \u001b[0;34m\u003d\u001b[0m \u001b[0;32mNone\u001b[0m\u001b[0;34m\u001b[0m\u001b[0;34m\u001b[0m\u001b[0m\n\u001b[0;32m----\u003e 7\u001b[0;31m        \u001b[0;32mfor\u001b[0m \u001b[0mcase\u001b[0m \u001b[0;32min\u001b[0m \u001b[0mdata\u001b[0m\u001b[0;34m[\u001b[0m\u001b[0mroot_index\u001b[0m\u001b[0;34m]\u001b[0m\u001b[0;34m[\u001b[0m\u001b[0mneighbor_size\u001b[0m\u001b[0;34m]\u001b[0m\u001b[0;34m:\u001b[0m\u001b[0;34m\u001b[0m\u001b[0;34m\u001b[0m\u001b[0m\n\u001b[0m\u001b[1;32m      8\u001b[0m            \u001b[0;32mif\u001b[0m \u001b[0mdata\u001b[0m\u001b[0;34m[\u001b[0m\u001b[0mroot_index\u001b[0m\u001b[0;34m]\u001b[0m\u001b[0;34m[\u001b[0m\u001b[0mneighbor_size\u001b[0m\u001b[0;34m]\u001b[0m\u001b[0;34m[\u001b[0m\u001b[0mcase\u001b[0m\u001b[0;34m]\u001b[0m\u001b[0;34m[\u001b[0m\u001b[0;34m\u0027total_redundant\u0027\u001b[0m\u001b[0;34m]\u001b[0m \u001b[0;34m\u003c\u001b[0m \u001b[0mmin_redundant\u001b[0m\u001b[0;34m:\u001b[0m\u001b[0;34m\u001b[0m\u001b[0;34m\u001b[0m\u001b[0m\n\u001b[1;32m      9\u001b[0m                \u001b[0mmin_redundant\u001b[0m \u001b[0;34m\u003d\u001b[0m \u001b[0mdata\u001b[0m\u001b[0;34m[\u001b[0m\u001b[0mroot_index\u001b[0m\u001b[0;34m]\u001b[0m\u001b[0;34m[\u001b[0m\u001b[0mneighbor_size\u001b[0m\u001b[0;34m]\u001b[0m\u001b[0;34m[\u001b[0m\u001b[0mcase\u001b[0m\u001b[0;34m]\u001b[0m\u001b[0;34m[\u001b[0m\u001b[0;34m\u0027total_redundant\u0027\u001b[0m\u001b[0;34m]\u001b[0m\u001b[0;34m\u001b[0m\u001b[0;34m\u001b[0m\u001b[0m\n",
            "\u001b[0;32m_pydevd_bundle/pydevd_cython_darwin_37_64.pyx\u001b[0m in \u001b[0;36m_pydevd_bundle.pydevd_cython_darwin_37_64.SafeCallWrapper.__call__\u001b[0;34m()\u001b[0m\n",
            "\u001b[0;32m_pydevd_bundle/pydevd_cython_darwin_37_64.pyx\u001b[0m in \u001b[0;36m_pydevd_bundle.pydevd_cython_darwin_37_64.PyDBFrame.trace_dispatch\u001b[0;34m()\u001b[0m\n",
            "\u001b[0;32m_pydevd_bundle/pydevd_cython_darwin_37_64.pyx\u001b[0m in \u001b[0;36m_pydevd_bundle.pydevd_cython_darwin_37_64.PyDBFrame.trace_dispatch\u001b[0;34m()\u001b[0m\n",
            "\u001b[0;32m_pydevd_bundle/pydevd_cython_darwin_37_64.pyx\u001b[0m in \u001b[0;36m_pydevd_bundle.pydevd_cython_darwin_37_64.PyDBFrame.trace_dispatch\u001b[0;34m()\u001b[0m\n",
            "\u001b[0;32m/Applications/PyCharm.app/Contents/helpers-pro/jupyter_debug/pydev_jupyter_plugin.py\u001b[0m in \u001b[0;36mstop\u001b[0;34m(plugin, pydb, frame, event, args, stop_info, arg, step_cmd)\u001b[0m\n\u001b[1;32m    161\u001b[0m         \u001b[0mframe\u001b[0m \u001b[0;34m\u003d\u001b[0m \u001b[0msuspend_jupyter\u001b[0m\u001b[0;34m(\u001b[0m\u001b[0mmain_debugger\u001b[0m\u001b[0;34m,\u001b[0m \u001b[0mthread\u001b[0m\u001b[0;34m,\u001b[0m \u001b[0mframe\u001b[0m\u001b[0;34m,\u001b[0m \u001b[0mstep_cmd\u001b[0m\u001b[0;34m)\u001b[0m\u001b[0;34m\u001b[0m\u001b[0;34m\u001b[0m\u001b[0m\n\u001b[1;32m    162\u001b[0m         \u001b[0;32mif\u001b[0m \u001b[0mframe\u001b[0m\u001b[0;34m:\u001b[0m\u001b[0;34m\u001b[0m\u001b[0;34m\u001b[0m\u001b[0m\n\u001b[0;32m--\u003e 163\u001b[0;31m             \u001b[0mmain_debugger\u001b[0m\u001b[0;34m.\u001b[0m\u001b[0mdo_wait_suspend\u001b[0m\u001b[0;34m(\u001b[0m\u001b[0mthread\u001b[0m\u001b[0;34m,\u001b[0m \u001b[0mframe\u001b[0m\u001b[0;34m,\u001b[0m \u001b[0mevent\u001b[0m\u001b[0;34m,\u001b[0m \u001b[0marg\u001b[0m\u001b[0;34m)\u001b[0m\u001b[0;34m\u001b[0m\u001b[0;34m\u001b[0m\u001b[0m\n\u001b[0m\u001b[1;32m    164\u001b[0m             \u001b[0;32mreturn\u001b[0m \u001b[0;32mTrue\u001b[0m\u001b[0;34m\u001b[0m\u001b[0;34m\u001b[0m\u001b[0m\n\u001b[1;32m    165\u001b[0m     \u001b[0;32mreturn\u001b[0m \u001b[0;32mFalse\u001b[0m\u001b[0;34m\u001b[0m\u001b[0;34m\u001b[0m\u001b[0m\n",
            "\u001b[0;32m/Applications/PyCharm.app/Contents/helpers/pydev/pydevd.py\u001b[0m in \u001b[0;36mdo_wait_suspend\u001b[0;34m(self, thread, frame, event, arg, suspend_type, send_suspend_message)\u001b[0m\n\u001b[1;32m    875\u001b[0m \u001b[0;34m\u001b[0m\u001b[0m\n\u001b[1;32m    876\u001b[0m             \u001b[0mself\u001b[0m\u001b[0;34m.\u001b[0m\u001b[0mprocess_internal_commands\u001b[0m\u001b[0;34m(\u001b[0m\u001b[0;34m)\u001b[0m\u001b[0;34m\u001b[0m\u001b[0;34m\u001b[0m\u001b[0m\n\u001b[0;32m--\u003e 877\u001b[0;31m             \u001b[0mtime\u001b[0m\u001b[0;34m.\u001b[0m\u001b[0msleep\u001b[0m\u001b[0;34m(\u001b[0m\u001b[0;36m0.01\u001b[0m\u001b[0;34m)\u001b[0m\u001b[0;34m\u001b[0m\u001b[0;34m\u001b[0m\u001b[0m\n\u001b[0m\u001b[1;32m    878\u001b[0m \u001b[0;34m\u001b[0m\u001b[0m\n\u001b[1;32m    879\u001b[0m         \u001b[0mself\u001b[0m\u001b[0;34m.\u001b[0m\u001b[0mcancel_async_evaluation\u001b[0m\u001b[0;34m(\u001b[0m\u001b[0mget_thread_id\u001b[0m\u001b[0;34m(\u001b[0m\u001b[0mthread\u001b[0m\u001b[0;34m)\u001b[0m\u001b[0;34m,\u001b[0m \u001b[0mstr\u001b[0m\u001b[0;34m(\u001b[0m\u001b[0mid\u001b[0m\u001b[0;34m(\u001b[0m\u001b[0mframe\u001b[0m\u001b[0;34m)\u001b[0m\u001b[0;34m)\u001b[0m\u001b[0;34m)\u001b[0m\u001b[0;34m\u001b[0m\u001b[0;34m\u001b[0m\u001b[0m\n",
            "\u001b[0;31mKeyboardInterrupt\u001b[0m: "
          ],
          "ename": "KeyboardInterrupt",
          "evalue": "",
          "output_type": "error"
        }
      ],
      "source": " good \u003d dict()\nfor root_index in range(config.max_index):\n    good[root_index] \u003d dict()\n    for neighbor_size in config.neighbor_size_range:\n        min_redundant \u003d float(\u0027inf\u0027)\n        min_case \u003d None\n        for case in data[root_index][neighbor_size]:\n            if data[root_index][neighbor_size][case][\u0027total_redundant\u0027] \u003c min_redundant:\n                min_redundant \u003d data[root_index][neighbor_size][case][\u0027total_redundant\u0027]\n                min_case \u003d data[root_index][neighbor_size][case]\n        good[root_index][neighbor_size] \u003d min_case\n\nbest \u003d dict()\nfor root_index in range(config.max_index):\n    for neighbor_size in good[root_index]:\n        min_redundant \u003d float(\u0027inf\u0027)\n        if good[root_index][neighbor_size][\u0027target_time\u0027] \u003c config.target_time \\\n                and good[root_index][neighbor_size][\u0027total_redundant\u0027] \u003c min_redundant:\n            min_redundant \u003d good[root_index][neighbor_size][\u0027total_redundant\u0027]\n            best[root_index] \u003d good[root_index][neighbor_size]"
    },
    {
      "cell_type": "code",
      "execution_count": 13,
      "outputs": [
        {
          "name": "stdout",
          "text": [
            "{15: 50}\n{2: 47, 3: 3}\n{0.3: 18, 0.4: 22, 0.2: 3, 0.1: 1, 0.5: 3, 0: 3}\n{15103.0: 1, 15204.0: 1, 15304.0: 1, 15404.0: 1, 15503.0: 1, 15603.0: 1, 15703.0: 1, 15803.0: 1, 15902.0: 1, 16003.0: 1, 16104.0: 1, 16201.0: 1, 16302.0: 1, 16404.0: 1, 16504.0: 1, 16605.0: 1, 16703.0: 1, 16803.0: 1, 16903.0: 1, 17004.0: 1, 15100: 1, 17104.0: 1, 17204.0: 1, 17303.0: 1, 17404.0: 1, 17504.0: 1, 17603.0: 1, 17704.0: 1, 17804.0: 1, 17904.0: 1, 18004.0: 1, 18104.0: 1, 15200: 1, 18203.0: 1, 18305.0: 1, 18404.0: 1, 18503.0: 1, 18602.0: 1, 18703.0: 1, 15300: 1, 18803.0: 1, 18903.0: 1, 19005.0: 1, 19104.0: 1, 19204.0: 1, 19304.0: 1, 19404.0: 1, 19503.0: 1, 19604.0: 1, 19703.0: 1}\nover\n"
          ],
          "output_type": "stream"
        }
      ],
      "source": "best_neighbor_size \u003d dict()\nbest_ttl \u003d dict()\nbest_p \u003d dict()\nbest_set \u003d dict()\nfor index in best:\n    if best_neighbor_size.get(best[index][\u0027neighbor_size\u0027]) is None:\n        best_neighbor_size[best[index][\u0027neighbor_size\u0027]] \u003d 1\n    else:\n        best_neighbor_size[best[index][\u0027neighbor_size\u0027]] \u003d best_neighbor_size[best[index][\u0027neighbor_size\u0027]] + 1\n\n    if best_ttl.get(best[index][\u0027msg_ttl\u0027]) is None:\n        best_ttl[best[index][\u0027msg_ttl\u0027]] \u003d 1\n    else:\n        best_ttl[best[index][\u0027msg_ttl\u0027]] \u003d best_ttl[best[index][\u0027msg_ttl\u0027]] + 1\n\n    if best_p.get(best[index][\u0027alpha\u0027]) is None:\n        best_p[best[index][\u0027alpha\u0027]] \u003d 1\n    else:\n        best_p[best[index][\u0027alpha\u0027]] \u003d best_p[best[index][\u0027alpha\u0027]] + 1\n\n    set_value \u003d best[index][\u0027neighbor_size\u0027] * 1000 + best_ttl[best[index][\u0027msg_ttl\u0027]] * 100 + best[index][\u0027alpha\u0027] * 10\n    if best_set.get(set_value) is None:\n        best_set[set_value] \u003d 1\n    else:\n        best_set[set_value] \u003d best_set[set_value] + 1\n\nprint(best_neighbor_size)\nprint(best_ttl)\nprint(best_p)\nprint(best_set)\n\nprint(\"over\")\n",
      "metadata": {
        "pycharm": {
          "metadata": false,
          "name": "#%%\n",
          "is_executing": false
        }
      }
    }
  ],
  "metadata": {
    "kernelspec": {
      "display_name": "Python 3",
      "language": "python",
      "name": "python3"
    },
    "language_info": {
      "codemirror_mode": {
        "name": "ipython",
        "version": 3
      },
      "file_extension": ".py",
      "mimetype": "text/x-python",
      "name": "python",
      "nbconvert_exporter": "python",
      "pygments_lexer": "ipython3",
      "version": "3.7.2"
    },
    "stem_cell": {
      "cell_type": "raw",
      "metadata": {
        "pycharm": {
          "metadata": false
        }
      },
      "source": ""
    }
  },
  "nbformat": 4,
  "nbformat_minor": 1
}